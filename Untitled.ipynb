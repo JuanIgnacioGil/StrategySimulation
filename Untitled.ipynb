{
 "cells": [
  {
   "cell_type": "code",
   "execution_count": 1,
   "metadata": {
    "collapsed": true
   },
   "outputs": [],
   "source": [
    "import pandas as pd\n",
    "from quotes import Quotes"
   ]
  },
  {
   "cell_type": "code",
   "execution_count": 8,
   "metadata": {
    "collapsed": false
   },
   "outputs": [],
   "source": [
    "q = Quotes(start_date=pd.datetime(2016, 1, 1), end_date=pd.datetime(2016, 12, 31))"
   ]
  },
  {
   "cell_type": "code",
   "execution_count": 9,
   "metadata": {
    "collapsed": false
   },
   "outputs": [
    {
     "data": {
      "text/plain": [
       "1.0616314199395771"
      ]
     },
     "execution_count": 9,
     "metadata": {},
     "output_type": "execute_result"
    }
   ],
   "source": [
    "q.find_biggest_jump()"
   ]
  },
  {
   "cell_type": "code",
   "execution_count": 2,
   "metadata": {
    "collapsed": true
   },
   "outputs": [],
   "source": [
    "r = pd.DataFrame.from_csv('removed.csv')"
   ]
  },
  {
   "cell_type": "code",
   "execution_count": 6,
   "metadata": {
    "collapsed": false
   },
   "outputs": [
    {
     "data": {
      "text/plain": [
       "AAPL    -5.80\n",
       "AXP     10.20\n",
       "BA      12.79\n",
       "CAT      0.76\n",
       "CSCO      NaN\n",
       "CVX    -18.86\n",
       "DD      12.87\n",
       "DIS      3.76\n",
       "GE      -2.14\n",
       "GS      47.97\n",
       "HD      -4.01\n",
       "IBM      6.14\n",
       "INTC     7.51\n",
       "JNJ      7.44\n",
       "JPM     10.84\n",
       "KO      -1.88\n",
       "MCD     11.54\n",
       "MMM     -4.63\n",
       "MRK      2.52\n",
       "MSFT   -12.35\n",
       "NKE    -12.74\n",
       "PFE     -1.54\n",
       "PG      -5.79\n",
       "TRV      4.39\n",
       "UNH     19.59\n",
       "UTX     -0.57\n",
       "V      -14.32\n",
       "VZ      -0.19\n",
       "WMT    -11.71\n",
       "XOM    -16.51\n",
       "dtype: float64"
      ]
     },
     "execution_count": 6,
     "metadata": {},
     "output_type": "execute_result"
    }
   ],
   "source": [
    "partial = r.sum(axis=0)\n",
    "partial"
   ]
  },
  {
   "cell_type": "code",
   "execution_count": 7,
   "metadata": {
    "collapsed": false
   },
   "outputs": [
    {
     "data": {
      "text/plain": [
       "45.279999999999262"
      ]
     },
     "execution_count": 7,
     "metadata": {},
     "output_type": "execute_result"
    }
   ],
   "source": [
    "partial.sum()"
   ]
  },
  {
   "cell_type": "code",
   "execution_count": null,
   "metadata": {
    "collapsed": true
   },
   "outputs": [],
   "source": []
  }
 ],
 "metadata": {
  "kernelspec": {
   "display_name": "Python 3",
   "language": "python",
   "name": "python3"
  },
  "language_info": {
   "codemirror_mode": {
    "name": "ipython",
    "version": 3
   },
   "file_extension": ".py",
   "mimetype": "text/x-python",
   "name": "python",
   "nbconvert_exporter": "python",
   "pygments_lexer": "ipython3",
   "version": "3.5.1"
  }
 },
 "nbformat": 4,
 "nbformat_minor": 2
}
